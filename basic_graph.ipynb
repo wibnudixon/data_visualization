{
 "cells": [
  {
   "cell_type": "code",
   "execution_count": 1,
   "source": [
    "# Making a basic line graph \r\n",
    "\r\n",
    "#importing bokeh\r\n",
    "from bokeh.plotting import figure\r\n",
    "from bokeh.io import output_file, show\r\n",
    "\r\n",
    "# prepare some data \r\n",
    "x=[1,2,3,4,5]\r\n",
    "y=[6,7,8,9,10]\r\n",
    "\r\n",
    "#prepare the output file \r\n",
    "output_file(\"Line.html\")\r\n",
    "\r\n",
    "# create a figure object \r\n",
    "f=figure()\r\n",
    "\r\n",
    "#create a line plot \r\n",
    "f.line(x,y)  # triangle circle\r\n",
    "\r\n",
    "show(f)\r\n",
    "\r\n",
    "\r\n"
   ],
   "outputs": [],
   "metadata": {}
  },
  {
   "cell_type": "code",
   "execution_count": null,
   "source": [
    "# triangle based plot and circle based plot \r\n",
    "# f.triangle(x,y)\r\n",
    "# f.circle(x,y)"
   ],
   "outputs": [],
   "metadata": {}
  },
  {
   "cell_type": "code",
   "execution_count": null,
   "source": [
    "# Making a basic line graph \r\n",
    "\r\n",
    "#importing bokeh\r\n",
    "from bokeh.plotting import figure\r\n",
    "from bokeh.io import output_file, show\r\n",
    "\r\n",
    "# prepare some data \r\n",
    "x=[1,2,3,4,5]\r\n",
    "y=[6,7,8,9,10]\r\n",
    "\r\n",
    "#prepare the output file \r\n",
    "output_file(\"Line.html\")\r\n",
    "\r\n",
    "# create a figure object \r\n",
    "f=figure()\r\n",
    "\r\n",
    "#create a line plot \r\n",
    "f.line(x,y)  # triangle circle\r\n",
    "\r\n",
    "show(f)\r\n",
    "\r\n",
    "\r\n"
   ],
   "outputs": [],
   "metadata": {}
  }
 ],
 "metadata": {
  "orig_nbformat": 4,
  "language_info": {
   "name": "python",
   "version": "3.8.8",
   "mimetype": "text/x-python",
   "codemirror_mode": {
    "name": "ipython",
    "version": 3
   },
   "pygments_lexer": "ipython3",
   "nbconvert_exporter": "python",
   "file_extension": ".py"
  },
  "kernelspec": {
   "name": "python3",
   "display_name": "Python 3.8.8 64-bit ('base': conda)"
  },
  "interpreter": {
   "hash": "b55f5873e4f65b5163bdf0420981e04b6d438687d77188556e1017e3529db857"
  }
 },
 "nbformat": 4,
 "nbformat_minor": 2
}